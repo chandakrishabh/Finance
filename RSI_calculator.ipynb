{
  "nbformat": 4,
  "nbformat_minor": 0,
  "metadata": {
    "colab": {
      "name": "RSI_calculator",
      "provenance": [],
      "collapsed_sections": []
    },
    "kernelspec": {
      "display_name": "Python 3",
      "name": "python3"
    }
  },
  "cells": [
    {
      "cell_type": "code",
      "metadata": {
        "id": "khFr3I-AnaeS"
      },
      "source": [
        "%%capture\n",
        " \n",
        "# !pip install git+https://github.com/rodrigobercini/yfinance.git\n",
        "!pip install stockstats\n",
        "!pip install yfinance --upgrade --no-cache-dir\n",
        "from termcolor import colored\n",
        "from stockstats import StockDataFrame\n",
        "import yfinance as yf\n",
        "import bs4 as bs\n",
        "import pickle\n",
        "import requests\n",
        "import pandas as pd\n",
        "import time\n",
        "import matplotlib.pyplot as plt\n",
        "import numpy as np"
      ],
      "execution_count": null,
      "outputs": []
    },
    {
      "cell_type": "code",
      "metadata": {
        "id": "wPx2RHPzwbH7"
      },
      "source": [
        "def print_sorted_RSI(RSI_values,Curr_prices):\n",
        "  RSI_values = {k: v for k, v in sorted(RSI_values.items(), key=lambda item: item[1],reverse=True)}\n",
        "  for k,v in RSI_values.items():\n",
        "    if v > 70: #overbought\n",
        "      CRED = '\\033[91m'\n",
        "      CEND = '\\033[0m'\n",
        "      print(CRED+\"{}: {:.2f} ${:.2f}\".format(k,v,Curr_prices[k]) + CEND)\n",
        "    elif v< 30:\n",
        "      CEND = '\\033[0m'\n",
        "      CGREEN = '\\033[32m'\n",
        "      print(CGREEN+\"{}: {:.2f} ${:.2f}\".format(k,v,Curr_prices[k]) + CEND)\n",
        "    else:\n",
        "      print(\"{}: {:.2f} ${:.2f}\".format(k,v,Curr_prices[k]))\n",
        "\n",
        "def get_rsi(tickers):\n",
        "  RSI_values = {}\n",
        "  Curr_prices = {}\n",
        "  for ticker in tickers.split():\n",
        "    # Get data\n",
        "    currStock = yf.Ticker(ticker)\n",
        "\n",
        "    # get historical market data\n",
        "    hist = currStock.history(period=\"1y\")\n",
        "\n",
        "    #get current price\n",
        "    Curr_prices[ticker] = hist['Close'][-1]\n",
        "\n",
        "    #convert to stockstats df format\n",
        "    stockstats_df = StockDataFrame.retype(hist)\n",
        "\n",
        "    #get rsi\n",
        "    rsi=stockstats_df['rsi_14']\n",
        "\n",
        "    #append to dictionary to sort later\n",
        "    RSI_values[ticker] = rsi[-1]\n",
        "    \n",
        "\n",
        "  return RSI_values,Curr_prices\n"
      ],
      "execution_count": null,
      "outputs": []
    },
    {
      "cell_type": "code",
      "metadata": {
        "colab": {
          "base_uri": "https://localhost:8080/"
        },
        "id": "b91GSBkpnUud",
        "outputId": "41b82bcc-59fb-4484-f8ec-240480768266"
      },
      "source": [
        " \n",
        "tickers = \"TSLA SPY QQQ DIA MARA IWM\"\n",
        "# tickers = \"SPY ES=F DX-Y.NYB\"\n",
        "#get RSI\n",
        "RSI_values,Curr_prices = get_rsi(tickers)\n",
        "#print in descending order\n",
        "print_sorted_RSI(RSI_values,Curr_prices)"
      ],
      "execution_count": null,
      "outputs": [
        {
          "output_type": "stream",
          "text": [
            "QQQ: 68.75 $365.63\n",
            "SPY: 61.80 $437.56\n",
            "DIA: 57.22 $349.58\n",
            "TSLA: 46.34 $640.66\n",
            "MARA: 44.64 $25.26\n",
            "IWM: 43.25 $218.16\n"
          ],
          "name": "stdout"
        }
      ]
    },
    {
      "cell_type": "code",
      "metadata": {
        "colab": {
          "base_uri": "https://localhost:8080/"
        },
        "id": "ZWdI7qot0CEL",
        "outputId": "b6d06cc5-7586-4e0c-caa7-479783c75931"
      },
      "source": [
        "tickers = \"AMZN AAPL FB GOOG NFLX MSFT TSLA\"\n",
        "# tickers = \"TATASTEEL.NS\"\n",
        "#get RSI\n",
        "RSI_values,Curr_prices = get_rsi(tickers)\n",
        "#print in descending order\n",
        "print_sorted_RSI(RSI_values,Curr_prices)"
      ],
      "execution_count": null,
      "outputs": [
        {
          "output_type": "stream",
          "text": [
            "\u001b[91mMSFT: 73.63 $287.44\u001b[0m\n",
            "\u001b[91mGOOG: 71.44 $2701.71\u001b[0m\n",
            "AAPL: 65.62 $147.47\n",
            "FB: 64.12 $360.17\n",
            "AMZN: 59.84 $3631.64\n",
            "TSLA: 47.53 $644.22\n",
            "NFLX: 39.52 $508.18\n"
          ],
          "name": "stdout"
        }
      ]
    },
    {
      "cell_type": "code",
      "metadata": {
        "colab": {
          "base_uri": "https://localhost:8080/"
        },
        "id": "QjxsJpxlwC-0",
        "outputId": "feb29ca7-62a0-4b53-9dc1-a4c168b51d4e"
      },
      "source": [
        "tickers = \"TWTR SHOP TTD NIO BAC LIT AMD\"\n",
        "# tickers = \"TATASTEEL.NS\"\n",
        "\n",
        "#get RSI\n",
        "RSI_values,Curr_prices = get_rsi(tickers)\n",
        "#print in descending order\n",
        "print_sorted_RSI(RSI_values,Curr_prices)"
      ],
      "execution_count": null,
      "outputs": [
        {
          "output_type": "stream",
          "text": [
            "\u001b[91mSHOP: 71.03 $1617.88\u001b[0m\n",
            "TTD: 69.07 $81.26\n",
            "TWTR: 64.19 $70.98\n",
            "LIT: 64.03 $80.45\n",
            "AMD: 60.77 $91.28\n",
            "NIO: 47.60 $44.33\n",
            "BAC: 41.27 $38.16\n"
          ],
          "name": "stdout"
        }
      ]
    },
    {
      "cell_type": "code",
      "metadata": {
        "colab": {
          "base_uri": "https://localhost:8080/"
        },
        "id": "Fqd0E5AceoyO",
        "outputId": "3caedea9-d56c-4b31-d53e-cf261657a102"
      },
      "source": [
        "tickers = \"ARKK ARKG ARKW PLTR SPCE ICLN TAN QS\"\n",
        "# tickers = \"TATASTEEL.NS\"\n",
        "\n",
        "#get RSI\n",
        "RSI_values,Curr_prices = get_rsi(tickers)\n",
        "#print in descending order\n",
        "print_sorted_RSI(RSI_values,Curr_prices)"
      ],
      "execution_count": null,
      "outputs": [
        {
          "output_type": "stream",
          "text": [
            "ARKW: 54.56 $147.39\n",
            "ARKK: 51.48 $121.61\n",
            "TAN: 49.22 $84.18\n",
            "ICLN: 47.89 $22.66\n",
            "ARKG: 46.89 $85.60\n",
            "SPCE: 41.12 $30.93\n",
            "PLTR: 38.72 $21.85\n",
            "QS: 36.28 $22.97\n"
          ],
          "name": "stdout"
        }
      ]
    },
    {
      "cell_type": "code",
      "metadata": {
        "id": "qKl7RSdeG-Uv"
      },
      "source": [
        "# currStock = yf.Ticker(\"TSLA\")\n",
        "\n",
        "#     # get historical market data\n",
        "# hist = currStock.history(period=\"6mo\")\n",
        "\n",
        "# hist[-20:]"
      ],
      "execution_count": null,
      "outputs": []
    },
    {
      "cell_type": "code",
      "metadata": {
        "id": "62m-OKiSKMha"
      },
      "source": [
        "ticker = \"SPY\"\n",
        "currStock = yf.Ticker(ticker)\n",
        "\n",
        "# get historical market data\n",
        "hist = currStock.history(period=\"1y\")\n",
        "\n",
        "#get current price\n",
        "Curr_prices[ticker] = hist['Close'][-1]\n",
        "\n",
        "#convert to stockstats df format\n",
        "stockstats_df = StockDataFrame.retype(hist)\n",
        "\n",
        "#get rsi\n",
        "rsi=stockstats_df['rsi_14']\n",
        "\n",
        "#append to dictionary to sort later\n",
        "RSI_values[ticker] = rsi[-1]"
      ],
      "execution_count": null,
      "outputs": []
    }
  ]
}