{
  "nbformat": 4,
  "nbformat_minor": 0,
  "metadata": {
    "colab": {
      "name": "Scraping yahoo finance.ipynb",
      "provenance": [],
      "collapsed_sections": [],
      "toc_visible": true
    },
    "kernelspec": {
      "name": "python3",
      "display_name": "Python 3"
    },
    "accelerator": "GPU"
  },
  "cells": [
    {
      "cell_type": "code",
      "metadata": {
        "id": "5XeTmDHb6Jyw"
      },
      "source": [
        "# !pip install git+https://github.com/rodrigobercini/yfinance.git\n",
        "import yfinance as yf\n",
        "import bs4 as bs\n",
        "import pickle\n",
        "import requests\n",
        "import pandas as pd\n",
        "import time\n",
        "import matplotlib.pyplot as plt"
      ],
      "execution_count": null,
      "outputs": []
    },
    {
      "cell_type": "markdown",
      "metadata": {
        "id": "U4SZothgQfKw"
      },
      "source": [
        "## Get list of tickers in the s&p 500"
      ]
    },
    {
      "cell_type": "code",
      "metadata": {
        "id": "hHVJ5tsD6TSR"
      },
      "source": [
        "def save_sp500_tickers():\n",
        "    resp = requests.get('http://en.wikipedia.org/wiki/List_of_S%26P_500_companies')\n",
        "    soup = bs.BeautifulSoup(resp.text, 'lxml')\n",
        "    table = soup.find('table', {'class': 'wikitable sortable'})\n",
        "    tickers = []\n",
        "    for row in table.findAll('tr')[1:]:\n",
        "        ticker = row.findAll('td')[0].text.strip('\\n')\n",
        "        tickers.append(ticker)\n",
        "    return tickers\n",
        "\n",
        "stock_list = save_sp500_tickers()\n",
        "\n",
        "remov = ['BF.B','KR','KHC','SIVB','CRM','SBAC'] #these tickers are giving issues\n",
        "for ticker in remov:\n",
        "\n",
        "  stock_list.remove(ticker) #giving issues"
      ],
      "execution_count": null,
      "outputs": []
    },
    {
      "cell_type": "markdown",
      "metadata": {
        "id": "EzknBUeGXJGd"
      },
      "source": [
        "## Scrape the data for all tickers into a dataframe"
      ]
    },
    {
      "cell_type": "code",
      "metadata": {
        "id": "RB4lch0fXnBT"
      },
      "source": [
        "\n",
        "#Issues with different tickers having different info - fixed by dropping some tickers\n",
        "\n",
        "\n",
        "#Sample ticker to get the column names\n",
        "msft = yf.Ticker(\"ABMD\")\n",
        "metrics = list(msft.info.keys())\n",
        "# metrics.remove('regularMarketOpen')\n",
        "\n",
        "#Create an empty df with each row as one ticker and each columns as one info field\n",
        "# df = pd.DataFrame(columns = metrics, index = stock_list)\n",
        "# s = 'BF.B'\n",
        "count = 0\n",
        "for ticker in stock_list:\n",
        "  if count%10 is 0:\n",
        "    print(count)\n",
        "  count+=1\n",
        "  time.sleep(0.01) #kept getting connection error from peer at 30 stocks, this seems to fix? \n",
        "  #https://stackoverflow.com/questions/52051989/requests-exceptions-connectionerror-connection-aborted-connectionreseterro\n",
        "  stockInfo = yf.Ticker(ticker)\n",
        "  df.loc[ticker] = [stockInfo.info[x] if x in stockInfo.info.keys() else None for x in metrics] #assign all the info to the corresponding ticker row in the df\n",
        "\n"
      ],
      "execution_count": null,
      "outputs": []
    },
    {
      "cell_type": "markdown",
      "metadata": {
        "id": "weNkSzDsfhOD"
      },
      "source": [
        "## Save the dataframe to an excel sheet"
      ]
    },
    {
      "cell_type": "code",
      "metadata": {
        "id": "A0rPRsxbZN8C"
      },
      "source": [
        "df.drop('SIVB',axis = 0, inplace = True)\n",
        "df.to_excel(\"/content/drive/My Drive/stocks.xlsx\",index_label = 'Ticker')\n",
        "\n",
        "#This is how to read the df: \n",
        "# df = pd.read_excel(\"/content/drive/My Drive/stocks.xlsx\",index_col = 0)"
      ],
      "execution_count": null,
      "outputs": []
    },
    {
      "cell_type": "markdown",
      "metadata": {
        "id": "ekAldD8G-L7C"
      },
      "source": [
        "## 2) Comparing SPY/QQQ/DIA price ratios"
      ]
    },
    {
      "cell_type": "code",
      "metadata": {
        "id": "2ODAGxJX-QYQ",
        "colab": {
          "base_uri": "https://localhost:8080/",
          "height": 35
        },
        "outputId": "c063d289-6d27-456f-ea2d-21bdfd0d0b80"
      },
      "source": [
        "data = yf.download(\"SPY QQQ DIA\", start=\"1990-01-01\", end=\"2020-07-09\")\n",
        "data.dropna(inplace=True)\n",
        "df = data['Adj Close']\n",
        "df.head()"
      ],
      "execution_count": null,
      "outputs": [
        {
          "output_type": "stream",
          "text": [
            "[*********************100%***********************]  3 of 3 completed\n"
          ],
          "name": "stdout"
        }
      ]
    },
    {
      "cell_type": "code",
      "metadata": {
        "id": "KYeubPmq-qKO",
        "colab": {
          "base_uri": "https://localhost:8080/",
          "height": 298
        },
        "outputId": "cc04f043-7c74-4ea0-effc-d042e66ae3d7"
      },
      "source": [
        "fig, ax = plt.subplots(1,1,figsize = (8,4))\n",
        "ax.plot(df['QQQ']/df['DIA'],label = 'Nasdaq/DJIA',color = 'b',alpha = 0.8)\n",
        "ax.plot(df['QQQ']/df['SPY'],label = 'Nasdaq/SPX',color = 'y')\n",
        "ax.legend()\n",
        "ax.axhline((df['QQQ']/df['DIA'])[-1],ls = '--',color = 'b')\n",
        "ax.axhline((df['QQQ']/df['SPY'])[-1],ls = '--',color = 'y')\n",
        "ax.set_title('Ratio of Nasdaq to SPX and DJIA')"
      ],
      "execution_count": null,
      "outputs": [
        {
          "output_type": "execute_result",
          "data": {
            "text/plain": [
              "Text(0.5, 1.0, 'Ratio of Nasdaq to SPX and DJIA')"
            ]
          },
          "metadata": {
            "tags": []
          },
          "execution_count": 37
        },
        {
          "output_type": "display_data",
          "data": {
            "image/png": "[encoded data removed]",
            "text/plain": [
              "<Figure size 576x288 with 1 Axes>"
            ]
          },
          "metadata": {
            "tags": [],
            "needs_background": "light"
          }
        }
      ]
    }
  ]
}