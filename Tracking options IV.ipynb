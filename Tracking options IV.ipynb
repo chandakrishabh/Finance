{
  "nbformat": 4,
  "nbformat_minor": 0,
  "metadata": {
    "colab": {
      "name": "Using robin_stocks api.ipynb",
      "provenance": [],
      "collapsed_sections": []
    },
    "kernelspec": {
      "name": "python3",
      "display_name": "Python 3"
    }
  },
  "cells": [
    {
      "cell_type": "markdown",
      "metadata": {
        "id": "93shVHE3YZoT"
      },
      "source": [
        "# Getting TSLA options chain information for weekly calls"
      ]
    },
    {
      "cell_type": "code",
      "metadata": {
        "colab": {
          "base_uri": "https://localhost:8080/"
        },
        "id": "4G32BEMILJQR",
        "outputId": "125dde7b-40e4-4bee-c940-27ba895aaa8f"
      },
      "source": [
        "!pip install robin_stocks"
      ],
      "execution_count": null,
      "outputs": [
        {
          "output_type": "stream",
          "text": [
            "Collecting robin_stocks\n",
            "\u001b[?25l  Downloading https://files.pythonhosted.org/packages/7e/f3/25c0cf1a25a0d7e3ca522910fabe7a9baa1b48774421823c8f8b74356ed2/robin_stocks-1.5.3-py3-none-any.whl (63kB)\n",
            "\r\u001b[K     |█████▏                          | 10kB 17.9MB/s eta 0:00:01\r\u001b[K     |██████████▎                     | 20kB 17.8MB/s eta 0:00:01\r\u001b[K     |███████████████▍                | 30kB 10.4MB/s eta 0:00:01\r\u001b[K     |████████████████████▌           | 40kB 8.6MB/s eta 0:00:01\r\u001b[K     |█████████████████████████▊      | 51kB 4.5MB/s eta 0:00:01\r\u001b[K     |██████████████████████████████▉ | 61kB 5.1MB/s eta 0:00:01\r\u001b[K     |████████████████████████████████| 71kB 4.0MB/s \n",
            "\u001b[?25hRequirement already satisfied: requests in /usr/local/lib/python3.6/dist-packages (from robin_stocks) (2.23.0)\n",
            "Collecting pyotp\n",
            "  Downloading https://files.pythonhosted.org/packages/6f/5f/b8b985153df5516386e2918ab97ac836abfe88dc420cd3211d7b9e30814e/pyotp-2.4.1-py2.py3-none-any.whl\n",
            "Requirement already satisfied: chardet<4,>=3.0.2 in /usr/local/lib/python3.6/dist-packages (from requests->robin_stocks) (3.0.4)\n",
            "Requirement already satisfied: urllib3!=1.25.0,!=1.25.1,<1.26,>=1.21.1 in /usr/local/lib/python3.6/dist-packages (from requests->robin_stocks) (1.24.3)\n",
            "Requirement already satisfied: certifi>=2017.4.17 in /usr/local/lib/python3.6/dist-packages (from requests->robin_stocks) (2020.6.20)\n",
            "Requirement already satisfied: idna<3,>=2.5 in /usr/local/lib/python3.6/dist-packages (from requests->robin_stocks) (2.10)\n",
            "Installing collected packages: pyotp, robin-stocks\n",
            "Successfully installed pyotp-2.4.1 robin-stocks-1.5.3\n"
          ],
          "name": "stdout"
        }
      ]
    },
    {
      "cell_type": "code",
      "metadata": {
        "id": "gRQVLJy0LLqy"
      },
      "source": [
        "import robin_stocks as r\n",
        "import pandas as pd\n",
        "import numpy as np\n",
        "import datetime"
      ],
      "execution_count": null,
      "outputs": []
    },
    {
      "cell_type": "code",
      "metadata": {
        "id": "CuyaNcjxLU9B"
      },
      "source": [
        "# r.login('joshsmith@email.com','password', mfa_code=totp)"
      ],
      "execution_count": null,
      "outputs": []
    },
    {
      "cell_type": "code",
      "metadata": {
        "id": "mka2x2BHMKt2"
      },
      "source": [
        "t = 'TSLA'\n",
        "optionType='call'\n",
        "d = datetime.date.today()\n",
        "while d.weekday() != 4:\n",
        "    d += datetime.timedelta(1)\n",
        "d = d.isoformat()\n",
        "\n",
        "print('The date being looked up: {}'.format(d[-5:]))"
      ],
      "execution_count": null,
      "outputs": []
    },
    {
      "cell_type": "code",
      "metadata": {
        "id": "gEv92u8_MUdx"
      },
      "source": [
        "optionData = r.find_options_by_expiration(t,expirationDate=d,optionType=optionType)\n"
      ],
      "execution_count": null,
      "outputs": []
    },
    {
      "cell_type": "code",
      "metadata": {
        "id": "5NGnrkrMMmRR"
      },
      "source": [
        "optionData[0]"
      ],
      "execution_count": null,
      "outputs": []
    },
    {
      "cell_type": "code",
      "metadata": {
        "id": "0SdkGA8vNBOp"
      },
      "source": [
        "d = pd.DataFrame.from_dict(optionData)\n",
        "df = d[['expiration_date','strike_price','break_even_price','implied_volatility','delta','theta','mark_price','ask_price','bid_price']].copy()\n",
        "df = df.astype({'strike_price': 'float','implied_volatility':'float','delta':'float','theta':'float','mark_price':'float','bid_price':'float','ask_price':'float','break_even_price':'float'}).dropna()\n",
        "df['implied_volatility']*=100\n",
        "df.rename(columns={\"expiration_date\": \"exp\", \"strike_price\": \"strike\",'implied_volatility':'iv','mark_price':'mark','ask_price':'ask','bid_price':'bid','break_even_price':'break_even'},inplace=True)\n",
        "df.set_index('exp',inplace=True)\n",
        "df.sort_values('strike',inplace=True)\n",
        "\n"
      ],
      "execution_count": null,
      "outputs": []
    },
    {
      "cell_type": "code",
      "metadata": {
        "id": "1YU1J8fNODc_"
      },
      "source": [
        "curr_price = float(r.stocks.get_latest_price(t)[0])\n",
        "val = 1\n",
        "\n",
        "if val == 0:\n",
        "\n",
        "#sort by manual range\n",
        "  low = 400\n",
        "  high = 600\n",
        "  df = df[(df['strike'] >(low-1)) & (df['strike'] <(high+1))]  \n",
        "else:\n",
        "  #sort from curr_price to 30% above\n",
        "  df = df[(df['strike'] >(curr_price)) & (df['strike'] <(1.3*curr_price))]  \n",
        "\n",
        "df['to_break_even'] = (df['break_even']/curr_price-1)*100"
      ],
      "execution_count": null,
      "outputs": []
    },
    {
      "cell_type": "markdown",
      "metadata": {
        "id": "UJAgokGKYrew"
      },
      "source": [
        "# Highest IV"
      ]
    },
    {
      "cell_type": "code",
      "metadata": {
        "id": "DmfFr0SoPqOf"
      },
      "source": [
        "df.sort_values('iv',ascending = False).head(10)"
      ],
      "execution_count": null,
      "outputs": []
    },
    {
      "cell_type": "code",
      "metadata": {
        "colab": {
          "base_uri": "https://localhost:8080/",
          "height": 845
        },
        "id": "DNabFOT7RgwL",
        "outputId": "63cd844f-d7d1-490d-cfe4-2786d205a337"
      },
      "source": [
        "print('Current price is {}'.format(curr_price))\n",
        "df[['strike','break_even','to_break_even','mark','theta']]"
      ],
      "execution_count": null,
      "outputs": [
        {
          "output_type": "stream",
          "text": [
            "Current price is 490.4\n"
          ],
          "name": "stdout"
        },
        {
          "output_type": "execute_result",
          "data": {
            "text/html": [
              "<div>\n",
              "<style scoped>\n",
              "    .dataframe tbody tr th:only-of-type {\n",
              "        vertical-align: middle;\n",
              "    }\n",
              "\n",
              "    .dataframe tbody tr th {\n",
              "        vertical-align: top;\n",
              "    }\n",
              "\n",
              "    .dataframe thead th {\n",
              "        text-align: right;\n",
              "    }\n",
              "</style>\n",
              "<table border=\"1\" class=\"dataframe\">\n",
              "  <thead>\n",
              "    <tr style=\"text-align: right;\">\n",
              "      <th></th>\n",
              "      <th>strike</th>\n",
              "      <th>break_even</th>\n",
              "      <th>to_break_even</th>\n",
              "      <th>mark</th>\n",
              "      <th>theta</th>\n",
              "    </tr>\n",
              "    <tr>\n",
              "      <th>exp</th>\n",
              "      <th></th>\n",
              "      <th></th>\n",
              "      <th></th>\n",
              "      <th></th>\n",
              "      <th></th>\n",
              "    </tr>\n",
              "  </thead>\n",
              "  <tbody>\n",
              "    <tr>\n",
              "      <th>2020-11-27</th>\n",
              "      <td>495.0</td>\n",
              "      <td>508.73</td>\n",
              "      <td>3.737765</td>\n",
              "      <td>13.725</td>\n",
              "      <td>-1.152797</td>\n",
              "    </tr>\n",
              "    <tr>\n",
              "      <th>2020-11-27</th>\n",
              "      <td>500.0</td>\n",
              "      <td>511.98</td>\n",
              "      <td>4.400489</td>\n",
              "      <td>11.975</td>\n",
              "      <td>-1.153653</td>\n",
              "    </tr>\n",
              "    <tr>\n",
              "      <th>2020-11-27</th>\n",
              "      <td>505.0</td>\n",
              "      <td>515.35</td>\n",
              "      <td>5.087684</td>\n",
              "      <td>10.350</td>\n",
              "      <td>-1.133176</td>\n",
              "    </tr>\n",
              "    <tr>\n",
              "      <th>2020-11-27</th>\n",
              "      <td>510.0</td>\n",
              "      <td>519.30</td>\n",
              "      <td>5.893148</td>\n",
              "      <td>9.300</td>\n",
              "      <td>-1.133615</td>\n",
              "    </tr>\n",
              "    <tr>\n",
              "      <th>2020-11-27</th>\n",
              "      <td>515.0</td>\n",
              "      <td>523.20</td>\n",
              "      <td>6.688418</td>\n",
              "      <td>8.200</td>\n",
              "      <td>-1.108133</td>\n",
              "    </tr>\n",
              "    <tr>\n",
              "      <th>2020-11-27</th>\n",
              "      <td>520.0</td>\n",
              "      <td>527.23</td>\n",
              "      <td>7.510196</td>\n",
              "      <td>7.225</td>\n",
              "      <td>-1.074689</td>\n",
              "    </tr>\n",
              "    <tr>\n",
              "      <th>2020-11-27</th>\n",
              "      <td>525.0</td>\n",
              "      <td>531.30</td>\n",
              "      <td>8.340131</td>\n",
              "      <td>6.300</td>\n",
              "      <td>-1.026864</td>\n",
              "    </tr>\n",
              "    <tr>\n",
              "      <th>2020-11-27</th>\n",
              "      <td>530.0</td>\n",
              "      <td>535.63</td>\n",
              "      <td>9.223083</td>\n",
              "      <td>5.625</td>\n",
              "      <td>-0.992187</td>\n",
              "    </tr>\n",
              "    <tr>\n",
              "      <th>2020-11-27</th>\n",
              "      <td>535.0</td>\n",
              "      <td>540.00</td>\n",
              "      <td>10.114192</td>\n",
              "      <td>5.000</td>\n",
              "      <td>-0.949620</td>\n",
              "    </tr>\n",
              "    <tr>\n",
              "      <th>2020-11-27</th>\n",
              "      <td>540.0</td>\n",
              "      <td>544.48</td>\n",
              "      <td>11.027732</td>\n",
              "      <td>4.475</td>\n",
              "      <td>-0.910206</td>\n",
              "    </tr>\n",
              "    <tr>\n",
              "      <th>2020-11-27</th>\n",
              "      <td>545.0</td>\n",
              "      <td>549.30</td>\n",
              "      <td>12.010604</td>\n",
              "      <td>4.300</td>\n",
              "      <td>-0.911221</td>\n",
              "    </tr>\n",
              "    <tr>\n",
              "      <th>2020-11-27</th>\n",
              "      <td>550.0</td>\n",
              "      <td>553.58</td>\n",
              "      <td>12.883361</td>\n",
              "      <td>3.575</td>\n",
              "      <td>-0.823945</td>\n",
              "    </tr>\n",
              "    <tr>\n",
              "      <th>2020-11-27</th>\n",
              "      <td>555.0</td>\n",
              "      <td>558.20</td>\n",
              "      <td>13.825449</td>\n",
              "      <td>3.200</td>\n",
              "      <td>-0.779992</td>\n",
              "    </tr>\n",
              "    <tr>\n",
              "      <th>2020-11-27</th>\n",
              "      <td>560.0</td>\n",
              "      <td>562.92</td>\n",
              "      <td>14.787928</td>\n",
              "      <td>2.915</td>\n",
              "      <td>-0.747118</td>\n",
              "    </tr>\n",
              "    <tr>\n",
              "      <th>2020-11-27</th>\n",
              "      <td>565.0</td>\n",
              "      <td>567.57</td>\n",
              "      <td>15.736134</td>\n",
              "      <td>2.570</td>\n",
              "      <td>-0.695762</td>\n",
              "    </tr>\n",
              "    <tr>\n",
              "      <th>2020-11-27</th>\n",
              "      <td>570.0</td>\n",
              "      <td>572.22</td>\n",
              "      <td>16.684339</td>\n",
              "      <td>2.215</td>\n",
              "      <td>-0.637601</td>\n",
              "    </tr>\n",
              "    <tr>\n",
              "      <th>2020-11-27</th>\n",
              "      <td>575.0</td>\n",
              "      <td>577.08</td>\n",
              "      <td>17.675367</td>\n",
              "      <td>2.080</td>\n",
              "      <td>-0.618308</td>\n",
              "    </tr>\n",
              "    <tr>\n",
              "      <th>2020-11-27</th>\n",
              "      <td>580.0</td>\n",
              "      <td>581.90</td>\n",
              "      <td>18.658238</td>\n",
              "      <td>1.900</td>\n",
              "      <td>-0.587697</td>\n",
              "    </tr>\n",
              "    <tr>\n",
              "      <th>2020-11-27</th>\n",
              "      <td>585.0</td>\n",
              "      <td>586.04</td>\n",
              "      <td>19.502447</td>\n",
              "      <td>1.040</td>\n",
              "      <td>-0.380516</td>\n",
              "    </tr>\n",
              "    <tr>\n",
              "      <th>2020-11-27</th>\n",
              "      <td>590.0</td>\n",
              "      <td>591.63</td>\n",
              "      <td>20.642333</td>\n",
              "      <td>1.625</td>\n",
              "      <td>-0.539498</td>\n",
              "    </tr>\n",
              "    <tr>\n",
              "      <th>2020-11-27</th>\n",
              "      <td>595.0</td>\n",
              "      <td>596.23</td>\n",
              "      <td>21.580343</td>\n",
              "      <td>1.225</td>\n",
              "      <td>-0.442477</td>\n",
              "    </tr>\n",
              "    <tr>\n",
              "      <th>2020-11-27</th>\n",
              "      <td>600.0</td>\n",
              "      <td>601.29</td>\n",
              "      <td>22.612153</td>\n",
              "      <td>1.290</td>\n",
              "      <td>-0.463865</td>\n",
              "    </tr>\n",
              "    <tr>\n",
              "      <th>2020-11-27</th>\n",
              "      <td>610.0</td>\n",
              "      <td>611.55</td>\n",
              "      <td>24.704323</td>\n",
              "      <td>1.545</td>\n",
              "      <td>-0.543963</td>\n",
              "    </tr>\n",
              "    <tr>\n",
              "      <th>2020-11-27</th>\n",
              "      <td>620.0</td>\n",
              "      <td>620.92</td>\n",
              "      <td>26.615008</td>\n",
              "      <td>0.915</td>\n",
              "      <td>-0.372944</td>\n",
              "    </tr>\n",
              "    <tr>\n",
              "      <th>2020-11-27</th>\n",
              "      <td>630.0</td>\n",
              "      <td>630.75</td>\n",
              "      <td>28.619494</td>\n",
              "      <td>0.745</td>\n",
              "      <td>-0.323656</td>\n",
              "    </tr>\n",
              "  </tbody>\n",
              "</table>\n",
              "</div>"
            ],
            "text/plain": [
              "            strike  break_even  to_break_even    mark     theta\n",
              "exp                                                            \n",
              "2020-11-27   495.0      508.73       3.737765  13.725 -1.152797\n",
              "2020-11-27   500.0      511.98       4.400489  11.975 -1.153653\n",
              "2020-11-27   505.0      515.35       5.087684  10.350 -1.133176\n",
              "2020-11-27   510.0      519.30       5.893148   9.300 -1.133615\n",
              "2020-11-27   515.0      523.20       6.688418   8.200 -1.108133\n",
              "2020-11-27   520.0      527.23       7.510196   7.225 -1.074689\n",
              "2020-11-27   525.0      531.30       8.340131   6.300 -1.026864\n",
              "2020-11-27   530.0      535.63       9.223083   5.625 -0.992187\n",
              "2020-11-27   535.0      540.00      10.114192   5.000 -0.949620\n",
              "2020-11-27   540.0      544.48      11.027732   4.475 -0.910206\n",
              "2020-11-27   545.0      549.30      12.010604   4.300 -0.911221\n",
              "2020-11-27   550.0      553.58      12.883361   3.575 -0.823945\n",
              "2020-11-27   555.0      558.20      13.825449   3.200 -0.779992\n",
              "2020-11-27   560.0      562.92      14.787928   2.915 -0.747118\n",
              "2020-11-27   565.0      567.57      15.736134   2.570 -0.695762\n",
              "2020-11-27   570.0      572.22      16.684339   2.215 -0.637601\n",
              "2020-11-27   575.0      577.08      17.675367   2.080 -0.618308\n",
              "2020-11-27   580.0      581.90      18.658238   1.900 -0.587697\n",
              "2020-11-27   585.0      586.04      19.502447   1.040 -0.380516\n",
              "2020-11-27   590.0      591.63      20.642333   1.625 -0.539498\n",
              "2020-11-27   595.0      596.23      21.580343   1.225 -0.442477\n",
              "2020-11-27   600.0      601.29      22.612153   1.290 -0.463865\n",
              "2020-11-27   610.0      611.55      24.704323   1.545 -0.543963\n",
              "2020-11-27   620.0      620.92      26.615008   0.915 -0.372944\n",
              "2020-11-27   630.0      630.75      28.619494   0.745 -0.323656"
            ]
          },
          "metadata": {
            "tags": []
          },
          "execution_count": 129
        }
      ]
    },
    {
      "cell_type": "code",
      "metadata": {
        "id": "VYvPzR9YTFzQ"
      },
      "source": [
        ""
      ],
      "execution_count": null,
      "outputs": []
    }
  ]
}